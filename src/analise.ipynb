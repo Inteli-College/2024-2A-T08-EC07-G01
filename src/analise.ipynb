{
 "cells": [
  {
   "cell_type": "code",
   "execution_count": 2,
   "metadata": {},
   "outputs": [],
   "source": [
    "import pandas as pd\n",
    "import numpy as np"
   ]
  },
  {
   "cell_type": "markdown",
   "metadata": {},
   "source": [
    "Carregar todos os Dataframes"
   ]
  },
  {
   "cell_type": "code",
   "execution_count": 44,
   "metadata": {},
   "outputs": [],
   "source": [
    "df = pd.read_csv('data/RESULTADOS_02_03_2024.csv', sep=',')\n",
    "\n",
    "df_falhas = pd.read_csv('data/FALHAS_PREDICT.csv', sep=',')\n",
    "\n",
    "df_status = pd.read_csv('data/STATUS_PREDICTOR_ANO.csv', sep=',')"
   ]
  },
  {
   "cell_type": "markdown",
   "metadata": {},
   "source": [
    "Plotar gráfico dos veículos que mais aparecem no resultados"
   ]
  },
  {
   "cell_type": "code",
   "execution_count": 11,
   "metadata": {},
   "outputs": [
    {
     "data": {
      "image/png": "[encoded data removed]",
      "text/plain": [
       "<Figure size 640x480 with 1 Axes>"
      ]
     },
     "metadata": {},
     "output_type": "display_data"
    }
   ],
   "source": [
    "import matplotlib.pyplot as plt\n",
    "\n",
    "most_frequent_knr_values = df['KNR'].value_counts().head()\n",
    "most_frequent_knr_values.plot(kind='bar')\n",
    "plt.xlabel('KNR')\n",
    "plt.ylabel('Frequency')\n",
    "plt.title('Top 5 Most Frequent KNR Values')\n",
    "plt.show()"
   ]
  },
  {
   "cell_type": "code",
   "execution_count": 22,
   "metadata": {},
   "outputs": [
    {
     "data": {
      "text/plain": [
       "KNR\n",
       "2024-0576015    1121\n",
       "2024-0576018    1083\n",
       "2024-0616384     975\n",
       "2024-0626120     968\n",
       "2024-0616474     959\n",
       "Name: count, dtype: int64"
      ]
     },
     "execution_count": 22,
     "metadata": {},
     "output_type": "execute_result"
    }
   ],
   "source": [
    "df['KNR'].value_counts().head()"
   ]
  },
  {
   "cell_type": "markdown",
   "metadata": {},
   "source": [
    "Adquirir as falhas relacionadas a certo carro(KNR)"
   ]
  },
  {
   "cell_type": "code",
   "execution_count": 47,
   "metadata": {},
   "outputs": [
    {
     "data": {
      "text/plain": [
       "Unnamed: 0    27\n",
       "KNR           27\n",
       "MODELO        27\n",
       "COR           27\n",
       "MOTOR         27\n",
       "ESTACAO       27\n",
       "USUARIO       27\n",
       "HALLE         27\n",
       "FALHA         27\n",
       "DATA          27\n",
       "dtype: int64"
      ]
     },
     "execution_count": 47,
     "metadata": {},
     "output_type": "execute_result"
    }
   ],
   "source": [
    "df_falhas_knr_2024_0576015 = df_falhas[df_falhas['KNR'] == '2024-0576015']\n",
    "df_falhas_knr_2024_0576015.count()"
   ]
  },
  {
   "cell_type": "code",
   "execution_count": 56,
   "metadata": {
    "vscode": {
     "languageId": "javascript"
    }
   },
   "outputs": [
    {
     "data": {
      "text/plain": [
       "KNR       19483\n",
       "STATUS    19483\n",
       "DATA      19483\n",
       "dtype: int64"
      ]
     },
     "execution_count": 56,
     "metadata": {},
     "output_type": "execute_result"
    }
   ],
   "source": [
    "df_status = df_status[df_status['STATUS'] == 'M700']\n",
    "df_status.head(15)\n",
    "df_status.count()"
   ]
  },
  {
   "cell_type": "code",
   "execution_count": 46,
   "metadata": {},
   "outputs": [
    {
     "data": {
      "text/plain": [
       "KNR       0\n",
       "STATUS    0\n",
       "DATA      0\n",
       "dtype: int64"
      ]
     },
     "execution_count": 46,
     "metadata": {},
     "output_type": "execute_result"
    }
   ],
   "source": [
    "df_status_knr_2024_0576015 = df_status[df_status['KNR'] == '2024-0576015']\n",
    "df_status_knr_2024_0576015.count()"
   ]
  },
  {
   "cell_type": "markdown",
   "metadata": {},
   "source": [
    "Transformando a tabela STATUS de XLSX para CSV"
   ]
  },
  {
   "cell_type": "code",
   "execution_count": 33,
   "metadata": {},
   "outputs": [],
   "source": [
    "df = pd.read_excel('data/STATUS_PREDICTOR_ANO.xlsx', header=0)"
   ]
  },
  {
   "cell_type": "code",
   "execution_count": 37,
   "metadata": {},
   "outputs": [],
   "source": [
    "df = df.drop(columns=['Unnamed: 0'])\n",
    "df.columns = df.iloc[0]\n",
    "df = df.drop(df.index[0])\n",
    "df = df.reset_index(drop=True)"
   ]
  },
  {
   "cell_type": "code",
   "execution_count": 42,
   "metadata": {},
   "outputs": [
    {
     "data": {
      "text/html": [
       "<div>\n",
       "<style scoped>\n",
       "    .dataframe tbody tr th:only-of-type {\n",
       "        vertical-align: middle;\n",
       "    }\n",
       "\n",
       "    .dataframe tbody tr th {\n",
       "        vertical-align: top;\n",
       "    }\n",
       "\n",
       "    .dataframe thead th {\n",
       "        text-align: right;\n",
       "    }\n",
       "</style>\n",
       "<table border=\"1\" class=\"dataframe\">\n",
       "  <thead>\n",
       "    <tr style=\"text-align: right;\">\n",
       "      <th></th>\n",
       "      <th>KNR</th>\n",
       "      <th>STATUS</th>\n",
       "      <th>DATA</th>\n",
       "    </tr>\n",
       "  </thead>\n",
       "  <tbody>\n",
       "    <tr>\n",
       "      <th>0</th>\n",
       "      <td>2023-2016173</td>\n",
       "      <td>G620</td>\n",
       "      <td>2023-06-06 07:50:27</td>\n",
       "    </tr>\n",
       "    <tr>\n",
       "      <th>1</th>\n",
       "      <td>2023-2016173</td>\n",
       "      <td>M620</td>\n",
       "      <td>2023-06-06 07:50:27</td>\n",
       "    </tr>\n",
       "    <tr>\n",
       "      <th>2</th>\n",
       "      <td>2023-2026032</td>\n",
       "      <td>G620</td>\n",
       "      <td>2023-06-20 17:35:51</td>\n",
       "    </tr>\n",
       "    <tr>\n",
       "      <th>3</th>\n",
       "      <td>2023-2026032</td>\n",
       "      <td>M620</td>\n",
       "      <td>2023-06-20 17:35:51</td>\n",
       "    </tr>\n",
       "    <tr>\n",
       "      <th>4</th>\n",
       "      <td>2023-2026085</td>\n",
       "      <td>G620</td>\n",
       "      <td>2023-06-22 20:22:36</td>\n",
       "    </tr>\n",
       "    <tr>\n",
       "      <th>5</th>\n",
       "      <td>2023-2026085</td>\n",
       "      <td>M620</td>\n",
       "      <td>2023-06-22 20:22:36</td>\n",
       "    </tr>\n",
       "    <tr>\n",
       "      <th>6</th>\n",
       "      <td>2023-2026098</td>\n",
       "      <td>G620</td>\n",
       "      <td>2023-06-23 20:40:34</td>\n",
       "    </tr>\n",
       "    <tr>\n",
       "      <th>7</th>\n",
       "      <td>2023-2026098</td>\n",
       "      <td>M620</td>\n",
       "      <td>2023-06-23 20:40:34</td>\n",
       "    </tr>\n",
       "    <tr>\n",
       "      <th>8</th>\n",
       "      <td>2023-2026162</td>\n",
       "      <td>G620</td>\n",
       "      <td>2023-06-28 07:31:41</td>\n",
       "    </tr>\n",
       "    <tr>\n",
       "      <th>9</th>\n",
       "      <td>2023-2026162</td>\n",
       "      <td>M620</td>\n",
       "      <td>2023-06-28 07:31:41</td>\n",
       "    </tr>\n",
       "    <tr>\n",
       "      <th>10</th>\n",
       "      <td>2023-2026162</td>\n",
       "      <td>G710</td>\n",
       "      <td>2023-06-28 08:16:42</td>\n",
       "    </tr>\n",
       "    <tr>\n",
       "      <th>11</th>\n",
       "      <td>2023-2026175</td>\n",
       "      <td>G620</td>\n",
       "      <td>2023-06-27 13:56:38</td>\n",
       "    </tr>\n",
       "    <tr>\n",
       "      <th>12</th>\n",
       "      <td>2023-2026175</td>\n",
       "      <td>M620</td>\n",
       "      <td>2023-06-27 13:56:38</td>\n",
       "    </tr>\n",
       "    <tr>\n",
       "      <th>13</th>\n",
       "      <td>2023-2026215</td>\n",
       "      <td>M644</td>\n",
       "      <td>2023-06-29 10:06:13</td>\n",
       "    </tr>\n",
       "  </tbody>\n",
       "</table>\n",
       "</div>"
      ],
      "text/plain": [
       "0            KNR STATUS                 DATA\n",
       "0   2023-2016173   G620  2023-06-06 07:50:27\n",
       "1   2023-2016173   M620  2023-06-06 07:50:27\n",
       "2   2023-2026032   G620  2023-06-20 17:35:51\n",
       "3   2023-2026032   M620  2023-06-20 17:35:51\n",
       "4   2023-2026085   G620  2023-06-22 20:22:36\n",
       "5   2023-2026085   M620  2023-06-22 20:22:36\n",
       "6   2023-2026098   G620  2023-06-23 20:40:34\n",
       "7   2023-2026098   M620  2023-06-23 20:40:34\n",
       "8   2023-2026162   G620  2023-06-28 07:31:41\n",
       "9   2023-2026162   M620  2023-06-28 07:31:41\n",
       "10  2023-2026162   G710  2023-06-28 08:16:42\n",
       "11  2023-2026175   G620  2023-06-27 13:56:38\n",
       "12  2023-2026175   M620  2023-06-27 13:56:38\n",
       "13  2023-2026215   M644  2023-06-29 10:06:13"
      ]
     },
     "execution_count": 42,
     "metadata": {},
     "output_type": "execute_result"
    }
   ],
   "source": [
    "df.head(14)"
   ]
  },
  {
   "cell_type": "code",
   "execution_count": 43,
   "metadata": {},
   "outputs": [],
   "source": [
    "df.to_csv('data/STATUS_PREDICTOR_ANO.csv', index=False)"
   ]
  },
  {
   "cell_type": "markdown",
   "metadata": {},
   "source": [
    "Seguimento do código"
   ]
  }
 ],
 "metadata": {
  "kernelspec": {
   "display_name": "venv",
   "language": "python",
   "name": "python3"
  },
  "language_info": {
   "codemirror_mode": {
    "name": "ipython",
    "version": 3
   },
   "file_extension": ".py",
   "mimetype": "text/x-python",
   "name": "python",
   "nbconvert_exporter": "python",
   "pygments_lexer": "ipython3",
   "version": "3.11.9"
  }
 },
 "nbformat": 4,
 "nbformat_minor": 2
}
