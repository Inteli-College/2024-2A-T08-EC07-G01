{
 "cells": [
  {
   "cell_type": "markdown",
   "metadata": {},
   "source": [
    "## Exploração dos dados - Novos dados de Falha\n",
    "\n",
    "Nosso parceiro disponibilizou uma nova tabela de falhas, e iremos analisá-la nesse notebook."
   ]
  },
  {
   "cell_type": "code",
   "execution_count": 7,
   "metadata": {},
   "outputs": [],
   "source": [
    "import pandas as pd\n",
    "import numpy as np\n",
    "import matplotlib.pyplot as plt\n",
    "import openpyxl"
   ]
  },
  {
   "cell_type": "markdown",
   "metadata": {},
   "source": []
  },
  {
   "cell_type": "code",
   "execution_count": 8,
   "metadata": {},
   "outputs": [
    {
     "name": "stderr",
     "output_type": "stream",
     "text": [
      "/tmp/ipykernel_10100/3532241096.py:3: DtypeWarning: Columns (8) have mixed types. Specify dtype option on import or set low_memory=False.\n",
      "  df_falhas = pd.read_csv('../data/FALHAS_PREDICT_1.csv')\n"
     ]
    },
    {
     "data": {
      "text/html": [
       "<div>\n",
       "<style scoped>\n",
       "    .dataframe tbody tr th:only-of-type {\n",
       "        vertical-align: middle;\n",
       "    }\n",
       "\n",
       "    .dataframe tbody tr th {\n",
       "        vertical-align: top;\n",
       "    }\n",
       "\n",
       "    .dataframe thead th {\n",
       "        text-align: right;\n",
       "    }\n",
       "</style>\n",
       "<table border=\"1\" class=\"dataframe\">\n",
       "  <thead>\n",
       "    <tr style=\"text-align: right;\">\n",
       "      <th></th>\n",
       "      <th>KNR</th>\n",
       "      <th>MODELO</th>\n",
       "      <th>COR</th>\n",
       "      <th>MOTOR</th>\n",
       "      <th>ESTACAO</th>\n",
       "      <th>USUARIO</th>\n",
       "      <th>HALLE</th>\n",
       "      <th>FALHA</th>\n",
       "      <th>S_GROUP_ID</th>\n",
       "      <th>DATA</th>\n",
       "    </tr>\n",
       "  </thead>\n",
       "  <tbody>\n",
       "    <tr>\n",
       "      <th>0</th>\n",
       "      <td>2023-2056234</td>\n",
       "      <td>T-CROSS</td>\n",
       "      <td>2R2R</td>\n",
       "      <td>DHS</td>\n",
       "      <td>HCEQS506</td>\n",
       "      <td>4013334</td>\n",
       "      <td>ZP7</td>\n",
       "      <td>PARALAMA DIANTEIRO 01. AMASSADO</td>\n",
       "      <td>5</td>\n",
       "      <td>2024-05-20 21:31:51.992</td>\n",
       "    </tr>\n",
       "    <tr>\n",
       "      <th>1</th>\n",
       "      <td>2023-2056234</td>\n",
       "      <td>T-CROSS</td>\n",
       "      <td>2R2R</td>\n",
       "      <td>DHS</td>\n",
       "      <td>HCEQS506</td>\n",
       "      <td>4013334</td>\n",
       "      <td>ZP7</td>\n",
       "      <td>PORTA TRASEIRA 04. CAROÇO / PICO</td>\n",
       "      <td>4</td>\n",
       "      <td>2024-05-20 21:30:22.772</td>\n",
       "    </tr>\n",
       "    <tr>\n",
       "      <th>2</th>\n",
       "      <td>2023-2056234</td>\n",
       "      <td>T-CROSS</td>\n",
       "      <td>2R2R</td>\n",
       "      <td>DHS</td>\n",
       "      <td>PCEQS100</td>\n",
       "      <td>4004554</td>\n",
       "      <td>ZP5</td>\n",
       "      <td>PORTA DIANTEIRA SOLDA - RESPINGO</td>\n",
       "      <td>4</td>\n",
       "      <td>2023-12-06 06:48:29.543</td>\n",
       "    </tr>\n",
       "    <tr>\n",
       "      <th>3</th>\n",
       "      <td>2023-2056234</td>\n",
       "      <td>T-CROSS</td>\n",
       "      <td>2R2R</td>\n",
       "      <td>DHS</td>\n",
       "      <td>PCEQS114</td>\n",
       "      <td>2020297</td>\n",
       "      <td>ZP5</td>\n",
       "      <td>CINTO DE SEGURANÇA - FIXAÇÃO ASSOALHO ROSCA NOK</td>\n",
       "      <td>2</td>\n",
       "      <td>2023-12-05 21:36:33.284</td>\n",
       "    </tr>\n",
       "    <tr>\n",
       "      <th>4</th>\n",
       "      <td>2023-2056234</td>\n",
       "      <td>T-CROSS</td>\n",
       "      <td>2R2R</td>\n",
       "      <td>DHS</td>\n",
       "      <td>PCEQS620</td>\n",
       "      <td>2058570</td>\n",
       "      <td>ZP6</td>\n",
       "      <td>MÓDULO DO ACC (13) PEÇA INCORRETA ¨</td>\n",
       "      <td>9830946</td>\n",
       "      <td>2024-05-20 20:04:55.534</td>\n",
       "    </tr>\n",
       "  </tbody>\n",
       "</table>\n",
       "</div>"
      ],
      "text/plain": [
       "            KNR   MODELO   COR MOTOR   ESTACAO  USUARIO HALLE  \\\n",
       "0  2023-2056234  T-CROSS  2R2R   DHS  HCEQS506  4013334  ZP7    \n",
       "1  2023-2056234  T-CROSS  2R2R   DHS  HCEQS506  4013334  ZP7    \n",
       "2  2023-2056234  T-CROSS  2R2R   DHS  PCEQS100  4004554  ZP5    \n",
       "3  2023-2056234  T-CROSS  2R2R   DHS  PCEQS114  2020297  ZP5    \n",
       "4  2023-2056234  T-CROSS  2R2R   DHS  PCEQS620  2058570  ZP6    \n",
       "\n",
       "                                             FALHA S_GROUP_ID  \\\n",
       "0                  PARALAMA DIANTEIRO 01. AMASSADO          5   \n",
       "1                 PORTA TRASEIRA 04. CAROÇO / PICO          4   \n",
       "2                 PORTA DIANTEIRA SOLDA - RESPINGO          4   \n",
       "3  CINTO DE SEGURANÇA - FIXAÇÃO ASSOALHO ROSCA NOK          2   \n",
       "4              MÓDULO DO ACC (13) PEÇA INCORRETA ¨    9830946   \n",
       "\n",
       "                      DATA  \n",
       "0  2024-05-20 21:31:51.992  \n",
       "1  2024-05-20 21:30:22.772  \n",
       "2  2023-12-06 06:48:29.543  \n",
       "3  2023-12-05 21:36:33.284  \n",
       "4  2024-05-20 20:04:55.534  "
      ]
     },
     "execution_count": 8,
     "metadata": {},
     "output_type": "execute_result"
    }
   ],
   "source": [
    "# Intanciando o dataframe e arrumando os problemas de index\n",
    "\n",
    "df_falhas = pd.read_csv('../data/FALHAS_PREDICT_1.csv')\n",
    "df_falhas.head()\n"
   ]
  },
  {
   "cell_type": "code",
   "execution_count": 9,
   "metadata": {},
   "outputs": [
    {
     "data": {
      "text/html": [
       "<div>\n",
       "<style scoped>\n",
       "    .dataframe tbody tr th:only-of-type {\n",
       "        vertical-align: middle;\n",
       "    }\n",
       "\n",
       "    .dataframe tbody tr th {\n",
       "        vertical-align: top;\n",
       "    }\n",
       "\n",
       "    .dataframe thead th {\n",
       "        text-align: right;\n",
       "    }\n",
       "</style>\n",
       "<table border=\"1\" class=\"dataframe\">\n",
       "  <thead>\n",
       "    <tr style=\"text-align: right;\">\n",
       "      <th></th>\n",
       "      <th>KNR</th>\n",
       "      <th>MODELO</th>\n",
       "      <th>COR</th>\n",
       "      <th>MOTOR</th>\n",
       "      <th>ESTACAO</th>\n",
       "      <th>USUARIO</th>\n",
       "      <th>HALLE</th>\n",
       "      <th>FALHA</th>\n",
       "      <th>S_GROUP_ID</th>\n",
       "      <th>DATA</th>\n",
       "    </tr>\n",
       "  </thead>\n",
       "  <tbody>\n",
       "    <tr>\n",
       "      <th>count</th>\n",
       "      <td>758916</td>\n",
       "      <td>758916</td>\n",
       "      <td>758916</td>\n",
       "      <td>758916</td>\n",
       "      <td>758906</td>\n",
       "      <td>758906</td>\n",
       "      <td>757311</td>\n",
       "      <td>758916</td>\n",
       "      <td>758916</td>\n",
       "      <td>758916</td>\n",
       "    </tr>\n",
       "    <tr>\n",
       "      <th>unique</th>\n",
       "      <td>87407</td>\n",
       "      <td>1</td>\n",
       "      <td>13</td>\n",
       "      <td>5</td>\n",
       "      <td>80</td>\n",
       "      <td>454</td>\n",
       "      <td>30</td>\n",
       "      <td>6581</td>\n",
       "      <td>19</td>\n",
       "      <td>585194</td>\n",
       "    </tr>\n",
       "    <tr>\n",
       "      <th>top</th>\n",
       "      <td>2024-2816497</td>\n",
       "      <td>T-CROSS</td>\n",
       "      <td>K2K2</td>\n",
       "      <td>DHS</td>\n",
       "      <td>HCEQS506</td>\n",
       "      <td>2039346</td>\n",
       "      <td>ZP7</td>\n",
       "      <td>Painel lateral 05. Sujeira na pintura</td>\n",
       "      <td>2</td>\n",
       "      <td>2023-10-05 14:27:31.000</td>\n",
       "    </tr>\n",
       "    <tr>\n",
       "      <th>freq</th>\n",
       "      <td>100</td>\n",
       "      <td>758916</td>\n",
       "      <td>197803</td>\n",
       "      <td>463239</td>\n",
       "      <td>381564</td>\n",
       "      <td>36311</td>\n",
       "      <td>306878</td>\n",
       "      <td>25630</td>\n",
       "      <td>231272</td>\n",
       "      <td>14</td>\n",
       "    </tr>\n",
       "  </tbody>\n",
       "</table>\n",
       "</div>"
      ],
      "text/plain": [
       "                 KNR   MODELO     COR   MOTOR   ESTACAO  USUARIO   HALLE  \\\n",
       "count         758916   758916  758916  758916    758906   758906  757311   \n",
       "unique         87407        1      13       5        80      454      30   \n",
       "top     2024-2816497  T-CROSS    K2K2     DHS  HCEQS506  2039346     ZP7   \n",
       "freq             100   758916  197803  463239    381564    36311  306878   \n",
       "\n",
       "                                        FALHA  S_GROUP_ID  \\\n",
       "count                                  758916      758916   \n",
       "unique                                   6581          19   \n",
       "top     Painel lateral 05. Sujeira na pintura           2   \n",
       "freq                                    25630      231272   \n",
       "\n",
       "                           DATA  \n",
       "count                    758916  \n",
       "unique                   585194  \n",
       "top     2023-10-05 14:27:31.000  \n",
       "freq                         14  "
      ]
     },
     "execution_count": 9,
     "metadata": {},
     "output_type": "execute_result"
    }
   ],
   "source": [
    "df_falhas.describe()"
   ]
  },
  {
   "cell_type": "markdown",
   "metadata": {},
   "source": [
    "É possível notar que há dados nulos em algumas colunas, a julgar pela contagem"
   ]
  },
  {
   "cell_type": "code",
   "execution_count": 10,
   "metadata": {},
   "outputs": [
    {
     "data": {
      "text/html": [
       "<div>\n",
       "<style scoped>\n",
       "    .dataframe tbody tr th:only-of-type {\n",
       "        vertical-align: middle;\n",
       "    }\n",
       "\n",
       "    .dataframe tbody tr th {\n",
       "        vertical-align: top;\n",
       "    }\n",
       "\n",
       "    .dataframe thead th {\n",
       "        text-align: right;\n",
       "    }\n",
       "</style>\n",
       "<table border=\"1\" class=\"dataframe\">\n",
       "  <thead>\n",
       "    <tr style=\"text-align: right;\">\n",
       "      <th></th>\n",
       "      <th>KNR</th>\n",
       "      <th>MODELO</th>\n",
       "      <th>COR</th>\n",
       "      <th>MOTOR</th>\n",
       "      <th>ESTACAO</th>\n",
       "      <th>USUARIO</th>\n",
       "      <th>HALLE</th>\n",
       "      <th>FALHA</th>\n",
       "      <th>S_GROUP_ID</th>\n",
       "      <th>DATA</th>\n",
       "    </tr>\n",
       "  </thead>\n",
       "  <tbody>\n",
       "    <tr>\n",
       "      <th>count</th>\n",
       "      <td>757311</td>\n",
       "      <td>757311</td>\n",
       "      <td>757311</td>\n",
       "      <td>757311</td>\n",
       "      <td>757311</td>\n",
       "      <td>757311</td>\n",
       "      <td>757311</td>\n",
       "      <td>757311</td>\n",
       "      <td>757311</td>\n",
       "      <td>757311</td>\n",
       "    </tr>\n",
       "    <tr>\n",
       "      <th>unique</th>\n",
       "      <td>87405</td>\n",
       "      <td>1</td>\n",
       "      <td>13</td>\n",
       "      <td>5</td>\n",
       "      <td>78</td>\n",
       "      <td>451</td>\n",
       "      <td>30</td>\n",
       "      <td>6575</td>\n",
       "      <td>19</td>\n",
       "      <td>583929</td>\n",
       "    </tr>\n",
       "    <tr>\n",
       "      <th>top</th>\n",
       "      <td>2024-2816497</td>\n",
       "      <td>T-CROSS</td>\n",
       "      <td>K2K2</td>\n",
       "      <td>DHS</td>\n",
       "      <td>HCEQS506</td>\n",
       "      <td>2039346</td>\n",
       "      <td>ZP7</td>\n",
       "      <td>Painel lateral 05. Sujeira na pintura</td>\n",
       "      <td>2</td>\n",
       "      <td>2023-10-05 14:27:31.000</td>\n",
       "    </tr>\n",
       "    <tr>\n",
       "      <th>freq</th>\n",
       "      <td>100</td>\n",
       "      <td>757311</td>\n",
       "      <td>197462</td>\n",
       "      <td>462316</td>\n",
       "      <td>381564</td>\n",
       "      <td>36311</td>\n",
       "      <td>306878</td>\n",
       "      <td>25536</td>\n",
       "      <td>230807</td>\n",
       "      <td>14</td>\n",
       "    </tr>\n",
       "  </tbody>\n",
       "</table>\n",
       "</div>"
      ],
      "text/plain": [
       "                 KNR   MODELO     COR   MOTOR   ESTACAO  USUARIO   HALLE  \\\n",
       "count         757311   757311  757311  757311    757311   757311  757311   \n",
       "unique         87405        1      13       5        78      451      30   \n",
       "top     2024-2816497  T-CROSS    K2K2     DHS  HCEQS506  2039346     ZP7   \n",
       "freq             100   757311  197462  462316    381564    36311  306878   \n",
       "\n",
       "                                        FALHA  S_GROUP_ID  \\\n",
       "count                                  757311      757311   \n",
       "unique                                   6575          19   \n",
       "top     Painel lateral 05. Sujeira na pintura           2   \n",
       "freq                                    25536      230807   \n",
       "\n",
       "                           DATA  \n",
       "count                    757311  \n",
       "unique                   583929  \n",
       "top     2023-10-05 14:27:31.000  \n",
       "freq                         14  "
      ]
     },
     "execution_count": 10,
     "metadata": {},
     "output_type": "execute_result"
    }
   ],
   "source": [
    "#Excluir linhas que possuem dados nulos\n",
    "df_falhas = df_falhas.dropna()\n",
    "df_falhas.describe()\n"
   ]
  },
  {
   "cell_type": "code",
   "execution_count": 11,
   "metadata": {},
   "outputs": [
    {
     "name": "stdout",
     "output_type": "stream",
     "text": [
      "<class 'pandas.core.frame.DataFrame'>\n",
      "Index: 757311 entries, 0 to 758915\n",
      "Data columns (total 10 columns):\n",
      " #   Column      Non-Null Count   Dtype \n",
      "---  ------      --------------   ----- \n",
      " 0   KNR         757311 non-null  object\n",
      " 1   MODELO      757311 non-null  object\n",
      " 2   COR         757311 non-null  object\n",
      " 3   MOTOR       757311 non-null  object\n",
      " 4   ESTACAO     757311 non-null  object\n",
      " 5   USUARIO     757311 non-null  object\n",
      " 6   HALLE       757311 non-null  object\n",
      " 7   FALHA       757311 non-null  object\n",
      " 8   S_GROUP_ID  757311 non-null  object\n",
      " 9   DATA        757311 non-null  object\n",
      "dtypes: object(10)\n",
      "memory usage: 63.6+ MB\n"
     ]
    }
   ],
   "source": [
    "# Ver o tipo das colunas e verificar se a retirada de dados nulos deu certo.\n",
    "df_falhas.info()"
   ]
  },
  {
   "cell_type": "code",
   "execution_count": 12,
   "metadata": {},
   "outputs": [
    {
     "data": {
      "text/plain": [
       "array(['5', '4', '2', '9830946', '1', '-2', '133', '140', '#MULTIVALUE',\n",
       "       '137', 2, 4, 133, 1, 5, 9830946, -2, 140, 137], dtype=object)"
      ]
     },
     "execution_count": 12,
     "metadata": {},
     "output_type": "execute_result"
    }
   ],
   "source": [
    "#Checando quantos valores únicos de tipos de falha possuímos\n",
    "df_falhas[\"S_GROUP_ID\"].unique()"
   ]
  },
  {
   "cell_type": "markdown",
   "metadata": {},
   "source": [
    "## Percepções\n",
    "\n",
    "Os dados não estão padronizados, ou seja, há o tipo 1 numérico e o tipo 1 string, então é necessário realizar essa padronização. Além disso, há a presença de Multivalues, que não sabemos a quais categorias pertencem."
   ]
  },
  {
   "cell_type": "code",
   "execution_count": 13,
   "metadata": {},
   "outputs": [
    {
     "name": "stdout",
     "output_type": "stream",
     "text": [
      "S_GROUP_ID\n",
      "2              230807\n",
      "4              129372\n",
      "2               87828\n",
      "1               83836\n",
      "5               82127\n",
      "4               44415\n",
      "5               29709\n",
      "1               27925\n",
      "-2              25487\n",
      "9830946          4213\n",
      "133              3934\n",
      "-2               3790\n",
      "9830946          1405\n",
      "133               914\n",
      "140               895\n",
      "140               409\n",
      "137               122\n",
      "137                76\n",
      "#MULTIVALUE        47\n",
      "Name: count, dtype: int64\n"
     ]
    }
   ],
   "source": [
    "print(df_falhas['S_GROUP_ID'].value_counts())"
   ]
  },
  {
   "cell_type": "markdown",
   "metadata": {},
   "source": [
    "Visto que há pouquíssimos registro de Multivalue em relação ao todo (apenas 47 ocorrências), é interessante remover os dados pois há uma falta de definição do significado dele. Isso faz com que evite acontecer erros no modelo, permitindo uma melhor precisão nele."
   ]
  },
  {
   "cell_type": "code",
   "execution_count": 14,
   "metadata": {},
   "outputs": [
    {
     "data": {
      "text/plain": [
       "array([      5,       4,       2, 9830946,       1,      -2,     133,\n",
       "           140,     137])"
      ]
     },
     "execution_count": 14,
     "metadata": {},
     "output_type": "execute_result"
    }
   ],
   "source": [
    "#Criando um novo DataFrame retirando as ocorrências que possuem #MULTIVALULES\n",
    "df_tratado = df_falhas.drop(df_falhas[df_falhas['S_GROUP_ID'] == '#MULTIVALUE'].index)\n",
    "df_tratado['S_GROUP_ID'] = df_tratado['S_GROUP_ID'].astype(int)\n",
    "df_tratado[\"S_GROUP_ID\"].unique()"
   ]
  },
  {
   "cell_type": "code",
   "execution_count": 15,
   "metadata": {},
   "outputs": [
    {
     "name": "stdout",
     "output_type": "stream",
     "text": [
      "KNR           object\n",
      "MODELO        object\n",
      "COR           object\n",
      "MOTOR         object\n",
      "ESTACAO       object\n",
      "USUARIO       object\n",
      "HALLE         object\n",
      "FALHA         object\n",
      "S_GROUP_ID     int64\n",
      "DATA          object\n",
      "dtype: object\n"
     ]
    }
   ],
   "source": [
    "print(df_tratado.dtypes)"
   ]
  },
  {
   "cell_type": "markdown",
   "metadata": {},
   "source": [
    "## Exportação\n",
    "\n",
    "Após o tratamento dos dados, vamos exportar em csv a tabela criada, a fim de usá-la em outros notebooks."
   ]
  },
  {
   "cell_type": "code",
   "execution_count": 16,
   "metadata": {},
   "outputs": [],
   "source": [
    "df_tratado.to_csv('../data/Tabela_Falhas_Atualizada.csv', index=False)\n",
    "df_atualizado = pd.read_csv('../data/Tabela_Falhas_Atualizada.csv')"
   ]
  },
  {
   "cell_type": "code",
   "execution_count": 18,
   "metadata": {},
   "outputs": [
    {
     "data": {
      "text/html": [
       "<div>\n",
       "<style scoped>\n",
       "    .dataframe tbody tr th:only-of-type {\n",
       "        vertical-align: middle;\n",
       "    }\n",
       "\n",
       "    .dataframe tbody tr th {\n",
       "        vertical-align: top;\n",
       "    }\n",
       "\n",
       "    .dataframe thead th {\n",
       "        text-align: right;\n",
       "    }\n",
       "</style>\n",
       "<table border=\"1\" class=\"dataframe\">\n",
       "  <thead>\n",
       "    <tr style=\"text-align: right;\">\n",
       "      <th></th>\n",
       "      <th>KNR</th>\n",
       "      <th>MODELO</th>\n",
       "      <th>COR</th>\n",
       "      <th>MOTOR</th>\n",
       "      <th>ESTACAO</th>\n",
       "      <th>USUARIO</th>\n",
       "      <th>HALLE</th>\n",
       "      <th>FALHA</th>\n",
       "      <th>S_GROUP_ID</th>\n",
       "      <th>DATA</th>\n",
       "    </tr>\n",
       "  </thead>\n",
       "  <tbody>\n",
       "    <tr>\n",
       "      <th>0</th>\n",
       "      <td>2023-2056234</td>\n",
       "      <td>T-CROSS</td>\n",
       "      <td>2R2R</td>\n",
       "      <td>DHS</td>\n",
       "      <td>HCEQS506</td>\n",
       "      <td>4013334</td>\n",
       "      <td>ZP7</td>\n",
       "      <td>PARALAMA DIANTEIRO 01. AMASSADO</td>\n",
       "      <td>5</td>\n",
       "      <td>2024-05-20 21:31:51.992</td>\n",
       "    </tr>\n",
       "    <tr>\n",
       "      <th>1</th>\n",
       "      <td>2023-2056234</td>\n",
       "      <td>T-CROSS</td>\n",
       "      <td>2R2R</td>\n",
       "      <td>DHS</td>\n",
       "      <td>HCEQS506</td>\n",
       "      <td>4013334</td>\n",
       "      <td>ZP7</td>\n",
       "      <td>PORTA TRASEIRA 04. CAROÇO / PICO</td>\n",
       "      <td>4</td>\n",
       "      <td>2024-05-20 21:30:22.772</td>\n",
       "    </tr>\n",
       "    <tr>\n",
       "      <th>2</th>\n",
       "      <td>2023-2056234</td>\n",
       "      <td>T-CROSS</td>\n",
       "      <td>2R2R</td>\n",
       "      <td>DHS</td>\n",
       "      <td>PCEQS100</td>\n",
       "      <td>4004554</td>\n",
       "      <td>ZP5</td>\n",
       "      <td>PORTA DIANTEIRA SOLDA - RESPINGO</td>\n",
       "      <td>4</td>\n",
       "      <td>2023-12-06 06:48:29.543</td>\n",
       "    </tr>\n",
       "    <tr>\n",
       "      <th>3</th>\n",
       "      <td>2023-2056234</td>\n",
       "      <td>T-CROSS</td>\n",
       "      <td>2R2R</td>\n",
       "      <td>DHS</td>\n",
       "      <td>PCEQS114</td>\n",
       "      <td>2020297</td>\n",
       "      <td>ZP5</td>\n",
       "      <td>CINTO DE SEGURANÇA - FIXAÇÃO ASSOALHO ROSCA NOK</td>\n",
       "      <td>2</td>\n",
       "      <td>2023-12-05 21:36:33.284</td>\n",
       "    </tr>\n",
       "    <tr>\n",
       "      <th>4</th>\n",
       "      <td>2023-2056234</td>\n",
       "      <td>T-CROSS</td>\n",
       "      <td>2R2R</td>\n",
       "      <td>DHS</td>\n",
       "      <td>PCEQS620</td>\n",
       "      <td>2058570</td>\n",
       "      <td>ZP6</td>\n",
       "      <td>MÓDULO DO ACC (13) PEÇA INCORRETA ¨</td>\n",
       "      <td>9830946</td>\n",
       "      <td>2024-05-20 20:04:55.534</td>\n",
       "    </tr>\n",
       "  </tbody>\n",
       "</table>\n",
       "</div>"
      ],
      "text/plain": [
       "            KNR   MODELO   COR MOTOR   ESTACAO  USUARIO HALLE  \\\n",
       "0  2023-2056234  T-CROSS  2R2R   DHS  HCEQS506  4013334  ZP7    \n",
       "1  2023-2056234  T-CROSS  2R2R   DHS  HCEQS506  4013334  ZP7    \n",
       "2  2023-2056234  T-CROSS  2R2R   DHS  PCEQS100  4004554  ZP5    \n",
       "3  2023-2056234  T-CROSS  2R2R   DHS  PCEQS114  2020297  ZP5    \n",
       "4  2023-2056234  T-CROSS  2R2R   DHS  PCEQS620  2058570  ZP6    \n",
       "\n",
       "                                             FALHA  S_GROUP_ID  \\\n",
       "0                  PARALAMA DIANTEIRO 01. AMASSADO           5   \n",
       "1                 PORTA TRASEIRA 04. CAROÇO / PICO           4   \n",
       "2                 PORTA DIANTEIRA SOLDA - RESPINGO           4   \n",
       "3  CINTO DE SEGURANÇA - FIXAÇÃO ASSOALHO ROSCA NOK           2   \n",
       "4              MÓDULO DO ACC (13) PEÇA INCORRETA ¨     9830946   \n",
       "\n",
       "                      DATA  \n",
       "0  2024-05-20 21:31:51.992  \n",
       "1  2024-05-20 21:30:22.772  \n",
       "2  2023-12-06 06:48:29.543  \n",
       "3  2023-12-05 21:36:33.284  \n",
       "4  2024-05-20 20:04:55.534  "
      ]
     },
     "execution_count": 18,
     "metadata": {},
     "output_type": "execute_result"
    }
   ],
   "source": [
    "#Visualização da tabela pós modificações\n",
    "df_atualizado.head()"
   ]
  }
 ],
 "metadata": {
  "kernelspec": {
   "display_name": "Python 3",
   "language": "python",
   "name": "python3"
  },
  "language_info": {
   "codemirror_mode": {
    "name": "ipython",
    "version": 3
   },
   "file_extension": ".py",
   "mimetype": "text/x-python",
   "name": "python",
   "nbconvert_exporter": "python",
   "pygments_lexer": "ipython3",
   "version": "3.10.12"
  }
 },
 "nbformat": 4,
 "nbformat_minor": 2
}
