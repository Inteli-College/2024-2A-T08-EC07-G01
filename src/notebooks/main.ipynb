{
 "cells": [
  {
   "cell_type": "markdown",
   "metadata": {},
   "source": [
    "### **Análise dos dados**\n",
    "\n",
    "Segue abaixo a análise dos dados inicialmente fornecidos."
   ]
  },
  {
   "cell_type": "markdown",
   "metadata": {},
   "source": [
    "Imports"
   ]
  },
  {
   "cell_type": "code",
   "execution_count": null,
   "metadata": {},
   "outputs": [],
   "source": [
    "import pandas as pd\n",
    "import numpy as np\n",
    "import matplotlib.pyplot as plt\n",
    "from sklearn.preprocessing import MinMaxScaler, StandardScaler\n",
    "from sklearn.neighbors import KNeighborsClassifier\n",
    "from sklearn.metrics import accuracy_score, classification_report\n",
    "from sklearn.model_selection import train_test_split"
   ]
  },
  {
   "cell_type": "markdown",
   "metadata": {},
   "source": [
    "Inicializando os dados"
   ]
  },
  {
   "cell_type": "code",
   "execution_count": null,
   "metadata": {},
   "outputs": [],
   "source": [
    "df_resultados = pd.read_csv('data/RESULTADOS_04_06_2024_full_teste.csv', compression='gzip')\n",
    "df_resultados2 = pd.read_csv('data/RESULTADOS_02_03_2024_full_teste.csv', compression='gzip')\n",
    "df_falhas = pd.read_csv('data/FALHAS_04_05_06_2024.csv')"
   ]
  },
  {
   "cell_type": "markdown",
   "metadata": {},
   "source": [
    "Checando os dados"
   ]
  },
  {
   "cell_type": "code",
   "execution_count": null,
   "metadata": {},
   "outputs": [],
   "source": [
    "# Remover coluna errada\n",
    "df_resultados = df_resultados.drop(columns=['Unnamed: 0'], axis=1)\n",
    "df_resultados2 = df_resultados2.drop(columns=['Unnamed: 0'], axis=1)\n",
    "\n"
   ]
  },
  {
   "cell_type": "code",
   "execution_count": null,
   "metadata": {},
   "outputs": [],
   "source": [
    "df_falhas = df_falhas.drop(columns=['Unnamed: 0'], axis=1)"
   ]
  },
  {
   "cell_type": "markdown",
   "metadata": {},
   "source": [
    "Arrumar os dados de falha"
   ]
  },
  {
   "cell_type": "code",
   "execution_count": null,
   "metadata": {},
   "outputs": [],
   "source": [
    "df_falhas.columns = df_falhas.iloc[0]\n",
    "\n",
    "df_falhas = df_falhas.drop(df_falhas.index[0])"
   ]
  },
  {
   "cell_type": "markdown",
   "metadata": {},
   "source": [
    "Checar ambos DFs"
   ]
  },
  {
   "cell_type": "code",
   "execution_count": null,
   "metadata": {},
   "outputs": [],
   "source": [
    "df_falhas.head()"
   ]
  },
  {
   "cell_type": "markdown",
   "metadata": {},
   "source": [
    "Analisando os tipos de dados de falhas"
   ]
  },
  {
   "cell_type": "code",
   "execution_count": null,
   "metadata": {},
   "outputs": [],
   "source": [
    "df_falhas.describe()"
   ]
  },
  {
   "cell_type": "code",
   "execution_count": null,
   "metadata": {},
   "outputs": [],
   "source": [
    "df_resultados.head(20)"
   ]
  },
  {
   "cell_type": "markdown",
   "metadata": {},
   "source": [
    "Após está analise, creio que os dados de ambas as tabelas que não serão utilizados tanto no treinamento quanto teste do modelo são:\n",
    "\n",
    "#### Falhas:\n",
    "\n",
    "- KNR\n",
    "- Estação\n",
    "- Data\n",
    "\n",
    "#### Resultados:\n",
    "\n",
    "- KNR\n",
    "- Name\n",
    "- Data\n",
    "\n",
    "OBS(Futuramente a coluna Data pode ser utilizada para criar novas features)\n",
    "OBS2(Colunas KNR e Name serão removidas apenas antes do treinamento do modelo)"
   ]
  },
  {
   "cell_type": "markdown",
   "metadata": {},
   "source": [
    "## Preparação dos dados"
   ]
  },
  {
   "cell_type": "markdown",
   "metadata": {},
   "source": [
    "Inicialmente, os dados serão integrados em uma única tabela"
   ]
  },
  {
   "cell_type": "code",
   "execution_count": null,
   "metadata": {},
   "outputs": [],
   "source": [
    "# Remoção das linhas com NaN\n",
    "\n",
    "df_falhas = df_falhas.dropna()\n",
    "df_resultados = df_resultados.dropna()\n",
    "df_resultados2 = df_resultados2.dropna()"
   ]
  },
  {
   "cell_type": "code",
   "execution_count": null,
   "metadata": {},
   "outputs": [],
   "source": [
    "df_resultados.head()"
   ]
  },
  {
   "cell_type": "markdown",
   "metadata": {},
   "source": [
    "Convertendo a coluna DATA para um formato melhor"
   ]
  },
  {
   "cell_type": "code",
   "execution_count": null,
   "metadata": {},
   "outputs": [],
   "source": [
    "df_resultados.info()"
   ]
  },
  {
   "cell_type": "code",
   "execution_count": null,
   "metadata": {},
   "outputs": [],
   "source": [
    "# Salvando os dados em \"parquet\" é mais rápido para leitura\n",
    "\n",
    "df_resultados.to_parquet('data/df_resultados.parquet', index=False)\n",
    "df_resultados2.to_parquet('data/df_resultados2.parquet', index=False)"
   ]
  },
  {
   "cell_type": "code",
   "execution_count": null,
   "metadata": {},
   "outputs": [],
   "source": [
    "# Limpando colunas que não serão usadas agora\n",
    "\n",
    "colunas = ['UNIT', 'VALUE_ID', 'VALUE']\n",
    "\n",
    "df_resultados2 = df_resultados2.drop(columns=colunas, axis=1)\n",
    "df_resultados = df_resultados.drop(columns=colunas, axis=1)"
   ]
  },
  {
   "cell_type": "code",
   "execution_count": null,
   "metadata": {},
   "outputs": [],
   "source": [
    "# Transformando os DFs de resultados em apenas um DF de resultados maior\n",
    "\n",
    "df = pd.concat([df_resultados, df_resultados2])"
   ]
  },
  {
   "cell_type": "code",
   "execution_count": null,
   "metadata": {},
   "outputs": [],
   "source": [
    "# Transformando data em datetime do pandas\n",
    "\n",
    "df['DATA'] = pd.to_datetime(df['DATA'], errors='coerce')"
   ]
  },
  {
   "cell_type": "markdown",
   "metadata": {},
   "source": [
    "Segue abaixo o código para a preparação dos dados"
   ]
  },
  {
   "cell_type": "code",
   "execution_count": null,
   "metadata": {},
   "outputs": [],
   "source": [
    "def aggregate_by_id(df, id_value):\n",
    "    subset = df[df['ID'] == id_value]\n",
    "    return subset.groupby('KNR').agg(\n",
    "        NAME=('NAME', 'count'),  # Conta total de NAME\n",
    "        SOK=('STATUS', lambda x: (x == 10).sum()),\n",
    "        SNOK=('STATUS', lambda x: (x == 13).sum()),\n",
    "        DATA=('DATA', lambda x: (x.max() - x.min()).total_seconds() / (3600*24))\n",
    "    ).rename(columns={\n",
    "        'NAME': f'ID{id_value}NAME',\n",
    "        'SOK': f'ID{id_value}SOK',\n",
    "        'SNOK': f'ID{id_value}SNOK',\n",
    "        'DATA': f'ID{id_value}DATA'\n",
    "    })\n",
    "\n",
    "# Agregando para cada ID\n",
    "id1 = aggregate_by_id(df, 1)\n",
    "id2 = aggregate_by_id(df, 2)\n",
    "id718 = aggregate_by_id(df, 718)\n",
    "\n",
    "# Combinando os resultados em um único DataFrame\n",
    "final_df = id1.join(id2, on='KNR', how='outer').join(id718, on='KNR', how='outer').reset_index()\n",
    "\n",
    "# Adicionando UNIQUE_ID com valores incrementais\n",
    "\n",
    "# Reordenando as colunas para o formato desejado\n",
    "final_df = final_df[['KNR','ID1NAME', 'ID1SOK', 'ID1SNOK', 'ID1DATA', 'ID2NAME', 'ID2SOK', 'ID2SNOK', 'ID2DATA', 'ID718NAME', 'ID718SOK', 'ID718SNOK', 'ID718DATA']]\n",
    "\n",
    "# Exibindo o resultado\n",
    "print(final_df)"
   ]
  },
  {
   "cell_type": "code",
   "execution_count": null,
   "metadata": {},
   "outputs": [],
   "source": [
    "# Colocar 0 no lugar de NaN para evitar problemas\n",
    "final_df = final_df.fillna(0)"
   ]
  },
  {
   "cell_type": "code",
   "execution_count": null,
   "metadata": {},
   "outputs": [],
   "source": [
    "final_df.head(10)"
   ]
  },
  {
   "cell_type": "code",
   "execution_count": 308,
   "metadata": {},
   "outputs": [
    {
     "data": {
      "text/plain": [
       "(35317, 13)"
      ]
     },
     "execution_count": 308,
     "metadata": {},
     "output_type": "execute_result"
    }
   ],
   "source": [
    "# Checar o tamanho do DataFrame\n",
    "\n",
    "final_df.shape"
   ]
  },
  {
   "cell_type": "markdown",
   "metadata": {},
   "source": [
    "Arrumando o DF de Falhas\n"
   ]
  },
  {
   "cell_type": "code",
   "execution_count": null,
   "metadata": {},
   "outputs": [],
   "source": [
    "# Deixa todas as falhas em letra maiuscula\n",
    "df_falhas['FALHA'] = df_falhas['FALHA'].str.upper()"
   ]
  },
  {
   "cell_type": "code",
   "execution_count": null,
   "metadata": {},
   "outputs": [],
   "source": [
    "# Checa o DataFrame\n",
    "df_falhas.head()"
   ]
  },
  {
   "cell_type": "code",
   "execution_count": null,
   "metadata": {},
   "outputs": [],
   "source": [
    "# Removendo as colunas que não serão utilizadas na predição\n",
    "\n",
    "colunas_to_remove = ['MODELO', 'COR', 'MOTOR', 'ESTACAO', 'USUARIO', 'HALLE', 'DATA']\n",
    "\n",
    "df_falhas = df_falhas.drop(columns=colunas_to_remove, axis=1)"
   ]
  },
  {
   "cell_type": "markdown",
   "metadata": {},
   "source": [
    "É possível entregarem o HALLE da tabela Resultados? **PERGUNTA PARA O CLIENTE**"
   ]
  },
  {
   "cell_type": "code",
   "execution_count": null,
   "metadata": {},
   "outputs": [],
   "source": [
    "# Remove todas as linhas com KNR repetido\n",
    "df_falhas_unique = df_falhas.drop_duplicates(subset=['KNR'])\n",
    "\n",
    "# Checa o DataFrame\n",
    "df_falhas_unique.head()\n"
   ]
  },
  {
   "cell_type": "code",
   "execution_count": null,
   "metadata": {},
   "outputs": [],
   "source": [
    "# Muda os valores da coluna de Falha para 1\n",
    "df_falhas_unique['FALHA'] = 1"
   ]
  },
  {
   "cell_type": "code",
   "execution_count": null,
   "metadata": {},
   "outputs": [],
   "source": [
    "# Checa o DataFrame\n",
    "df_falhas_unique.head()"
   ]
  },
  {
   "cell_type": "markdown",
   "metadata": {},
   "source": [
    "Dando merge do Falhas com Resultado"
   ]
  },
  {
   "cell_type": "code",
   "execution_count": null,
   "metadata": {},
   "outputs": [],
   "source": [
    "# Realizando o merge dos dataframes df_falhas e final_df com base na coluna 'KNR'\n",
    "merged_df = pd.merge(final_df, df_falhas_unique, on='KNR', how='left')"
   ]
  },
  {
   "cell_type": "code",
   "execution_count": null,
   "metadata": {},
   "outputs": [],
   "source": [
    "# Analisa o tamanho do DF final\n",
    "merged_df.shape"
   ]
  },
  {
   "cell_type": "code",
   "execution_count": null,
   "metadata": {},
   "outputs": [],
   "source": [
    "# Adiciona 0 em todos os NaN\n",
    "merged_df = merged_df.fillna(0)"
   ]
  },
  {
   "cell_type": "code",
   "execution_count": null,
   "metadata": {},
   "outputs": [],
   "source": [
    "merged_df.head()"
   ]
  },
  {
   "cell_type": "markdown",
   "metadata": {},
   "source": [
    "Normalização e treinamento do modelo"
   ]
  },
  {
   "cell_type": "code",
   "execution_count": null,
   "metadata": {},
   "outputs": [],
   "source": [
    "# Selecionando apenas as colunas específicas para normalização\n",
    "cols_to_normalize = ['ID1NAME','ID1SOK', 'ID1SNOK', 'ID1DATA', 'ID2NAME', 'ID2SOK', 'ID2SNOK', 'ID2DATA', 'ID718NAME', 'ID718SOK', 'ID718SNOK', 'ID718DATA']\n",
    "\n",
    "# Inicializando o MinMaxScaler\n",
    "scaler = MinMaxScaler()\n",
    "\n",
    "# Aplicando a normalização\n",
    "merged_df[cols_to_normalize] = scaler.fit_transform(merged_df[cols_to_normalize])\n",
    "\n",
    "# Exibindo o dataframe normalizado\n",
    "merged_df.head()"
   ]
  },
  {
   "cell_type": "code",
   "execution_count": null,
   "metadata": {},
   "outputs": [],
   "source": [
    "# Separando as features (X) e o target (y)\n",
    "X = merged_df.drop(columns=['FALHA', 'KNR'])  # 'KNR' é apenas um identificador, então deve ser removido\n",
    "y = merged_df['FALHA']"
   ]
  },
  {
   "cell_type": "code",
   "execution_count": null,
   "metadata": {},
   "outputs": [],
   "source": [
    "# Separar os dados em treino e teste\n",
    "X_train, X_test, y_train, y_test = train_test_split(X, y, test_size=0.2, random_state=42)"
   ]
  },
  {
   "cell_type": "code",
   "execution_count": null,
   "metadata": {},
   "outputs": [],
   "source": [
    "# Inicializando o classificador KNN\n",
    "knn = KNeighborsClassifier(n_neighbors=6)\n",
    "knn.fit(X_train, y_train)"
   ]
  },
  {
   "cell_type": "code",
   "execution_count": null,
   "metadata": {},
   "outputs": [],
   "source": [
    "# Performance no conjunto de treinamento\n",
    "train_predictions = knn.predict(X_train)\n",
    "train_accuracy = accuracy_score(y_train, train_predictions)\n",
    "\n",
    "# Performance no conjunto de teste\n",
    "test_predictions = knn.predict(X_test)\n",
    "test_accuracy = accuracy_score(y_test, test_predictions)\n",
    "\n",
    "print(\"Acurácia no Treinamento:\", train_accuracy)\n",
    "print(\"Acurácia no Teste:\", test_accuracy)"
   ]
  },
  {
   "cell_type": "code",
   "execution_count": null,
   "metadata": {},
   "outputs": [],
   "source": [
    "# Analisa quantos valores são 1 e quantos 0 das falhas\n",
    "print(y_train.value_counts())"
   ]
  }
 ],
 "metadata": {
  "kernelspec": {
   "display_name": "venv",
   "language": "python",
   "name": "python3"
  },
  "language_info": {
   "codemirror_mode": {
    "name": "ipython",
    "version": 3
   },
   "file_extension": ".py",
   "mimetype": "text/x-python",
   "name": "python",
   "nbconvert_exporter": "python",
   "pygments_lexer": "ipython3",
   "version": "3.11.9"
  }
 },
 "nbformat": 4,
 "nbformat_minor": 2
}
