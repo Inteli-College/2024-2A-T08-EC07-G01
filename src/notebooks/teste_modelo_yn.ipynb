{
 "cells": [
  {
   "cell_type": "markdown",
   "metadata": {},
   "source": [
    "### **Análise dos dados**\n",
    "\n",
    "Segue abaixo a análise dos dados inicialmente fornecidos."
   ]
  },
  {
   "cell_type": "markdown",
   "metadata": {},
   "source": [
    "Imports"
   ]
  },
  {
   "cell_type": "code",
   "execution_count": 1,
   "metadata": {},
   "outputs": [],
   "source": [
    "import pandas as pd\n",
    "import numpy as np\n",
    "import matplotlib.pyplot as plt\n",
    "from sklearn.preprocessing import MinMaxScaler, StandardScaler\n",
    "from sklearn.neighbors import KNeighborsClassifier\n",
    "from sklearn.metrics import accuracy_score, classification_report\n",
    "from sklearn.model_selection import train_test_split, GridSearchCV\n",
    "\n",
    "from sklearn.metrics import confusion_matrix\n",
    "import seaborn as sns\n",
    "\n",
    "import matplotlib.pyplot as plt"
   ]
  },
  {
   "cell_type": "markdown",
   "metadata": {},
   "source": [
    "Inicializando os dados"
   ]
  },
  {
   "cell_type": "code",
   "execution_count": null,
   "metadata": {},
   "outputs": [],
   "source": [
    "df_resultados = pd.read_csv('../data/RESULTADOS_04_06_2024_full_teste.csv', compression='gzip')\n",
    "df_resultados2 = pd.read_csv('../data/RESULTADOS_02_03_2024_full_teste.csv', compression='gzip')\n",
    "df_resultados3 = pd.read_csv('../data/RESULTADOS_06_2023_07_2023_full_teste.csv' ,compression='gzip')\n",
    "df_falhas = pd.read_csv('../data/FALHAS_04_05_06_2024.csv')"
   ]
  },
  {
   "cell_type": "markdown",
   "metadata": {},
   "source": [
    "Checando os dados"
   ]
  },
  {
   "cell_type": "code",
   "execution_count": null,
   "metadata": {},
   "outputs": [],
   "source": [
    "# Remover coluna errada\n",
    "df_resultados = df_resultados.drop(columns=['Unnamed: 0'], axis=1)\n",
    "df_resultados2 = df_resultados2.drop(columns=['Unnamed: 0'], axis=1)\n",
    "df_resultados3 = df_resultados3.drop(columns=['Unnamed: 0'], axis=1)\n",
    "\n"
   ]
  },
  {
   "cell_type": "code",
   "execution_count": null,
   "metadata": {},
   "outputs": [],
   "source": [
    "df_falhas = df_falhas.drop(columns=['Unnamed: 0'], axis=1)"
   ]
  },
  {
   "cell_type": "markdown",
   "metadata": {},
   "source": [
    "Arrumando os dados de falha pois o nome da coluna ficou nas primeiras linhas"
   ]
  },
  {
   "cell_type": "code",
   "execution_count": null,
   "metadata": {},
   "outputs": [],
   "source": [
    "df_falhas.columns = df_falhas.iloc[0]\n",
    "\n",
    "df_falhas = df_falhas.drop(df_falhas.index[0])"
   ]
  },
  {
   "cell_type": "markdown",
   "metadata": {},
   "source": [
    "Checar ambos DFs"
   ]
  },
  {
   "cell_type": "code",
   "execution_count": null,
   "metadata": {},
   "outputs": [],
   "source": [
    "df_falhas.head()"
   ]
  },
  {
   "cell_type": "markdown",
   "metadata": {},
   "source": [
    "Analisando os tipos de dados de falhas"
   ]
  },
  {
   "cell_type": "code",
   "execution_count": null,
   "metadata": {},
   "outputs": [],
   "source": [
    "df_falhas.describe()"
   ]
  },
  {
   "cell_type": "code",
   "execution_count": null,
   "metadata": {},
   "outputs": [],
   "source": [
    "df_resultados.head(20)"
   ]
  },
  {
   "cell_type": "markdown",
   "metadata": {},
   "source": [
    "### Análise de Dados para Modelo de Falhas em Veículos\n",
    "\n",
    "Após a análise dos dados, foram feitas as seguintes seleções para o treinamento e teste do modelo:\n",
    "\n",
    "#### Falhas\n",
    "- **Colunas a serem utilizadas:**\n",
    "  - `KNR`: Identificação do veículo.\n",
    "  - `FALHA`: Indicação da ocorrência da falha.\n",
    "- **Motivo:** As demais colunas são únicas para os veículos que tiveram falhas e não estão presentes na tabela de `RESULTADOS`. Incluir essas colunas poderia causar viés no modelo.\n",
    "\n",
    "#### Resultados\n",
    "- **Colunas a serem descartadas:**\n",
    "  - `UNIT`\n",
    "  - `VALUE_ID`\n",
    "  - `VALUE`\n",
    "- **Motivo:** Essas colunas não serão utilizadas na análise inicial, mas podem ser incluídas futuramente para melhorar a acurácia e o recall do modelo.\n",
    "\n",
    "#### Observações Futuras\n",
    "- **Coluna `Data` da tabela FALHAS:** Pode ser explorada futuramente para criar novas features.\n",
    "\n",
    "Essa abordagem foi adotada para garantir que o modelo seja treinado e testado com dados que não introduzam viés, permitindo uma análise mais objetiva e confiável.\n"
   ]
  },
  {
   "cell_type": "markdown",
   "metadata": {},
   "source": [
    "## Preparação dos dados"
   ]
  },
  {
   "cell_type": "markdown",
   "metadata": {},
   "source": [
    "Inicialmente, os dados serão integrados em uma única tabela"
   ]
  },
  {
   "cell_type": "code",
   "execution_count": null,
   "metadata": {},
   "outputs": [],
   "source": [
    "# Remoção das linhas com NaN\n",
    "\n",
    "df_falhas = df_falhas.dropna()\n",
    "df_resultados = df_resultados.dropna()\n",
    "df_resultados2 = df_resultados2.dropna()\n",
    "df_resultados3 = df_resultados3.dropna()"
   ]
  },
  {
   "cell_type": "code",
   "execution_count": null,
   "metadata": {},
   "outputs": [],
   "source": [
    "df_resultados.head()"
   ]
  },
  {
   "cell_type": "markdown",
   "metadata": {},
   "source": [
    "Convertendo a coluna DATA para um formato melhor"
   ]
  },
  {
   "cell_type": "code",
   "execution_count": null,
   "metadata": {},
   "outputs": [],
   "source": [
    "df_resultados.info()"
   ]
  },
  {
   "cell_type": "code",
   "execution_count": null,
   "metadata": {},
   "outputs": [],
   "source": [
    "# Salvando os dados em \"parquet\" é mais rápido para leitura\n",
    "\n",
    "df_resultados.to_parquet('../data/df_resultados.parquet', index=False)\n",
    "df_resultados2.to_parquet('../data/df_resultados2.parquet', index=False)\n",
    "df_resultados3.to_parquet('../data/df_resultados3.parquet', index=False)"
   ]
  },
  {
   "cell_type": "code",
   "execution_count": null,
   "metadata": {},
   "outputs": [],
   "source": [
    "# Limpando colunas que não serão usadas agora\n",
    "\n",
    "colunas = ['UNIT', 'VALUE_ID', 'VALUE']\n",
    "\n",
    "df_resultados2 = df_resultados2.drop(columns=colunas, axis=1)\n",
    "df_resultados = df_resultados.drop(columns=colunas, axis=1)\n",
    "df_resultados3 = df_resultados3.drop(columns=colunas, axis=1)"
   ]
  },
  {
   "cell_type": "code",
   "execution_count": null,
   "metadata": {},
   "outputs": [],
   "source": [
    "# Transformando os DFs de resultados em apenas um DF de resultados maior\n",
    "\n",
    "df = pd.concat([df_resultados, df_resultados2, df_resultados3])"
   ]
  },
  {
   "cell_type": "code",
   "execution_count": null,
   "metadata": {},
   "outputs": [],
   "source": [
    "# Transformando data em datetime do pandas\n",
    "\n",
    "df['DATA'] = pd.to_datetime(df['DATA'], errors='coerce')"
   ]
  },
  {
   "cell_type": "markdown",
   "metadata": {},
   "source": [
    "Segue abaixo o código para a preparação dos dados"
   ]
  },
  {
   "cell_type": "code",
   "execution_count": null,
   "metadata": {},
   "outputs": [],
   "source": [
    "def aggregate_by_id(df, id_value):\n",
    "    subset = df[df['ID'] == id_value]\n",
    "    return subset.groupby('KNR').agg(\n",
    "        NAME=('NAME', 'count'),  # Conta total de NAME\n",
    "        SOK=('STATUS', lambda x: (x == 10).sum()),\n",
    "        SNOK=('STATUS', lambda x: (x == 13).sum()),\n",
    "        DATA=('DATA', lambda x: (x.max() - x.min()).total_seconds() / (3600*24))\n",
    "    ).rename(columns={\n",
    "        'NAME': f'ID{id_value}NAME',\n",
    "        'SOK': f'ID{id_value}SOK',\n",
    "        'SNOK': f'ID{id_value}SNOK',\n",
    "        'DATA': f'ID{id_value}DATA'\n",
    "    })\n",
    "\n",
    "# Agregando para cada ID\n",
    "id1 = aggregate_by_id(df, 1)\n",
    "id2 = aggregate_by_id(df, 2)\n",
    "id718 = aggregate_by_id(df, 718)\n",
    "\n",
    "# Combinando os resultados em um único DataFrame\n",
    "final_df = id1.join(id2, on='KNR', how='outer').join(id718, on='KNR', how='outer').reset_index()\n",
    "\n",
    "# Reordenando as colunas para o formato desejado\n",
    "final_df = final_df[['KNR','ID1NAME', 'ID1SOK', 'ID1SNOK', 'ID1DATA', 'ID2NAME', 'ID2SOK', 'ID2SNOK', 'ID2DATA', 'ID718NAME', 'ID718SOK', 'ID718SNOK', 'ID718DATA']]\n",
    "\n",
    "# Exibindo o resultado\n",
    "print(final_df)"
   ]
  },
  {
   "cell_type": "code",
   "execution_count": null,
   "metadata": {},
   "outputs": [],
   "source": [
    "# Colocar 0 no lugar de NaN para evitar problemas\n",
    "final_df = final_df.fillna(0)"
   ]
  },
  {
   "cell_type": "code",
   "execution_count": null,
   "metadata": {},
   "outputs": [],
   "source": [
    "final_df.head(10)"
   ]
  },
  {
   "cell_type": "code",
   "execution_count": null,
   "metadata": {},
   "outputs": [],
   "source": [
    "# Checar o tamanho do DataFrame\n",
    "\n",
    "final_df.shape"
   ]
  },
  {
   "cell_type": "markdown",
   "metadata": {},
   "source": [
    "Arrumando o DF de Falhas\n"
   ]
  },
  {
   "cell_type": "code",
   "execution_count": null,
   "metadata": {},
   "outputs": [],
   "source": [
    "# Deixa todas as falhas em letra maiuscula\n",
    "df_falhas['FALHA'] = df_falhas['FALHA'].str.upper()"
   ]
  },
  {
   "cell_type": "code",
   "execution_count": null,
   "metadata": {},
   "outputs": [],
   "source": [
    "# Checa o DataFrame\n",
    "df_falhas.head()"
   ]
  },
  {
   "cell_type": "code",
   "execution_count": null,
   "metadata": {},
   "outputs": [],
   "source": [
    "# Removendo as colunas que não serão utilizadas na predição\n",
    "\n",
    "colunas_to_remove = ['MODELO', 'COR', 'MOTOR', 'ESTACAO', 'USUARIO', 'HALLE', 'DATA']\n",
    "\n",
    "df_falhas = df_falhas.drop(columns=colunas_to_remove, axis=1)"
   ]
  },
  {
   "cell_type": "code",
   "execution_count": null,
   "metadata": {},
   "outputs": [],
   "source": [
    "# Remove todas as linhas com KNR repetido\n",
    "df_falhas_unique = df_falhas.drop_duplicates(subset=['KNR'])\n",
    "\n",
    "# Checa o DataFrame\n",
    "df_falhas_unique.head()\n"
   ]
  },
  {
   "cell_type": "code",
   "execution_count": null,
   "metadata": {},
   "outputs": [],
   "source": [
    "# Muda os valores da coluna de Falha para 1\n",
    "df_falhas_unique['FALHA'] = 1"
   ]
  },
  {
   "cell_type": "code",
   "execution_count": null,
   "metadata": {},
   "outputs": [],
   "source": [
    "# Checa o DataFrame\n",
    "df_falhas_unique.head()"
   ]
  },
  {
   "cell_type": "markdown",
   "metadata": {},
   "source": [
    "Dando merge do Falhas com Resultado"
   ]
  },
  {
   "cell_type": "code",
   "execution_count": null,
   "metadata": {},
   "outputs": [],
   "source": [
    "# Realizando o merge dos dataframes df_falhas e final_df com base na coluna 'KNR'\n",
    "merged_df = pd.merge(final_df, df_falhas_unique, on='KNR', how='left')"
   ]
  },
  {
   "cell_type": "code",
   "execution_count": null,
   "metadata": {},
   "outputs": [],
   "source": [
    "# Analisa o tamanho do DF final\n",
    "merged_df.shape"
   ]
  },
  {
   "cell_type": "code",
   "execution_count": null,
   "metadata": {},
   "outputs": [],
   "source": [
    "# Adiciona 0 em todos os NaN\n",
    "merged_df = merged_df.fillna(0)"
   ]
  },
  {
   "cell_type": "code",
   "execution_count": null,
   "metadata": {},
   "outputs": [],
   "source": [
    "merged_df.head()"
   ]
  },
  {
   "cell_type": "markdown",
   "metadata": {},
   "source": [
    "Normalização e treinamento do modelo"
   ]
  },
  {
   "cell_type": "code",
   "execution_count": null,
   "metadata": {},
   "outputs": [],
   "source": [
    "# Selecionando apenas as colunas específicas para normalização\n",
    "cols_to_normalize = ['ID1NAME','ID1SOK', 'ID1SNOK', 'ID1DATA', 'ID2NAME', 'ID2SOK', 'ID2SNOK', 'ID2DATA', 'ID718NAME', 'ID718SOK', 'ID718SNOK', 'ID718DATA']\n",
    "\n",
    "# Inicializando o MinMaxScaler\n",
    "scaler = MinMaxScaler()\n",
    "\n",
    "# Aplicando a normalização\n",
    "merged_df[cols_to_normalize] = scaler.fit_transform(merged_df[cols_to_normalize])\n",
    "\n",
    "# Exibindo o dataframe normalizado\n",
    "merged_df.head()"
   ]
  },
  {
   "cell_type": "code",
   "execution_count": null,
   "metadata": {},
   "outputs": [],
   "source": [
    "# Separando as features (X) e o target (y)\n",
    "X = merged_df.drop(columns=['FALHA', 'KNR'])  # 'KNR' é apenas um identificador, então deve ser removido\n",
    "y = merged_df['FALHA'] "
   ]
  },
  {
   "cell_type": "code",
   "execution_count": null,
   "metadata": {},
   "outputs": [],
   "source": [
    "# Separar os dados em treino e teste\n",
    "X_train, X_test, y_train, y_test = train_test_split(X, y, test_size=0.2, random_state=42)"
   ]
  },
  {
   "cell_type": "code",
   "execution_count": null,
   "metadata": {},
   "outputs": [],
   "source": [
    "import torch\n",
    "import torch.nn as nn\n",
    "import torch.optim as optim"
   ]
  },
  {
   "cell_type": "code",
   "execution_count": null,
   "metadata": {},
   "outputs": [],
   "source": [
    "class AutoLSTM(nn.Module):\n",
    "    def __init__(self, input_size, hidden_size, num_layers, output_size):\n",
    "        super(AutoLSTM, self).__init__()\n",
    "        self.hidden_size = hidden_size\n",
    "        self.num_layers = num_layers\n",
    "        \n",
    "        # Definição da camada LSTM\n",
    "        self.lstm = nn.LSTM(input_size, hidden_size, num_layers, batch_first=True)\n",
    "        \n",
    "        # Camada fully connected para mapear a saída da LSTM para o espaço de saída desejado\n",
    "        self.fc = nn.Linear(hidden_size, output_size)\n",
    "    \n",
    "    def forward(self, x):\n",
    "        # Inicializar o estado oculto e a célula da LSTM\n",
    "        h0 = torch.zeros(self.num_layers, x.size(0), self.hidden_size).to(x.device)\n",
    "        c0 = torch.zeros(self.num_layers, x.size(0), self.hidden_size).to(x.device)\n",
    "        \n",
    "        # Passar os dados pela LSTM\n",
    "        out, _ = self.lstm(x, (h0, c0))\n",
    "        \n",
    "        # Mapear a última saída da LSTM para o espaço de saída desejado\n",
    "        out = self.fc(out[:, -1, :])\n",
    "        \n",
    "        return out"
   ]
  },
  {
   "cell_type": "code",
   "execution_count": null,
   "metadata": {},
   "outputs": [],
   "source": [
    "# Definições de hiperparâmetros\n",
    "input_size = 1  # Tamanho do vetor de entrada (dimensão de cada ponto temporal)\n",
    "hidden_size = 128  # Número de unidades na camada LSTM\n",
    "num_layers = 2  # Número de camadas LSTM\n",
    "output_size = 1  # Tamanho do vetor de saída\n",
    "num_epochs = 100\n",
    "learning_rate = 0.001\n",
    "\n",
    "# Criar instância do modelo\n",
    "model = AutoLSTM(input_size, hidden_size, num_layers, output_size)\n",
    "\n",
    "# Definir função de perda e otimizador\n",
    "criterion = nn.MSELoss()\n",
    "optimizer = optim.Adam(model.parameters(), lr=learning_rate)\n",
    "\n",
    "# Dados de exemplo (substitua com seus próprios dados)\n",
    "train_data = np.sin(np.linspace(0, 100, 1000))  # Sinal de senoide como exemplo\n",
    "train_data = train_data.reshape(-1, 1)\n",
    "\n",
    "# Converter dados para tensor PyTorch\n",
    "train_data = torch.tensor(train_data, dtype=torch.float32)\n",
    "\n",
    "# Treinamento\n",
    "for epoch in range(num_epochs):\n",
    "    model.train()\n",
    "    optimizer.zero_grad()\n",
    "    \n",
    "    # Forward pass\n",
    "    outputs = model(train_data)\n",
    "    loss = criterion(outputs, train_data)\n",
    "    \n",
    "    # Backward pass e otimização\n",
    "    loss.backward()\n",
    "    optimizer.step()\n",
    "    \n",
    "    if (epoch + 1) % 10 == 0:\n",
    "        print(f'Epoch [{epoch+1}/{num_epochs}], Loss: {loss.item():.4f}')\n"
   ]
  },
  {
   "cell_type": "code",
   "execution_count": null,
   "metadata": {},
   "outputs": [],
   "source": [
    "model.eval()\n",
    "with torch.no_grad():\n",
    "    predicted = model(train_data).cpu().numpy()\n",
    "\n",
    "plt.plot(train_data.numpy(), label='Original Data')\n",
    "plt.plot(predicted, label='Predicted Data')\n",
    "plt.legend()\n",
    "plt.show()\n"
   ]
  }
 ],
 "metadata": {
  "kernelspec": {
   "display_name": "Python 3 (ipykernel)",
   "language": "python",
   "name": "python3"
  },
  "language_info": {
   "codemirror_mode": {
    "name": "ipython",
    "version": 3
   },
   "file_extension": ".py",
   "mimetype": "text/x-python",
   "name": "python",
   "nbconvert_exporter": "python",
   "pygments_lexer": "ipython3",
   "version": "3.11.9"
  }
 },
 "nbformat": 4,
 "nbformat_minor": 4
}
