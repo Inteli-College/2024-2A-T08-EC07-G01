{
 "cells": [
  {
   "cell_type": "markdown",
   "metadata": {},
   "source": [
    "### **Análise dos dados**\n",
    "\n",
    "Segue abaixo a análise dos dados inicialmente fornecidos."
   ]
  },
  {
   "cell_type": "markdown",
   "metadata": {},
   "source": [
    "Imports"
   ]
  },
  {
   "cell_type": "code",
   "execution_count": null,
   "metadata": {},
   "outputs": [],
   "source": [
    "import pandas as pd\n",
    "import numpy as np\n",
    "import matplotlib.pyplot as plt"
   ]
  },
  {
   "cell_type": "markdown",
   "metadata": {},
   "source": [
    "Inicializando os dados"
   ]
  },
  {
   "cell_type": "code",
   "execution_count": null,
   "metadata": {},
   "outputs": [],
   "source": [
    "df_resultados = pd.read_csv('data/RESULTADOS_04_06_2024_full_teste.csv', compression='gzip')\n",
    "df_falhas = pd.read_csv('data/FALHAS_04_05_06_2024.csv')"
   ]
  },
  {
   "cell_type": "markdown",
   "metadata": {},
   "source": [
    "Checando os dados"
   ]
  },
  {
   "cell_type": "code",
   "execution_count": null,
   "metadata": {},
   "outputs": [],
   "source": [
    "# Remover coluna errada\n",
    "df_resultados = df_resultados.drop(columns=['Unnamed: 0'], axis=1)\n",
    "df_falhas = df_falhas.drop(columns=['Unnamed: 0'], axis=1)\n"
   ]
  },
  {
   "cell_type": "markdown",
   "metadata": {},
   "source": [
    "Arrumar os dados de falha"
   ]
  },
  {
   "cell_type": "code",
   "execution_count": null,
   "metadata": {},
   "outputs": [],
   "source": [
    "df_falhas.columns = df_falhas.iloc[0]\n",
    "\n",
    "df_falhas = df_falhas.drop(df_falhas.index[0])"
   ]
  },
  {
   "cell_type": "markdown",
   "metadata": {},
   "source": [
    "Checar ambos DFs"
   ]
  },
  {
   "cell_type": "code",
   "execution_count": null,
   "metadata": {},
   "outputs": [],
   "source": [
    "df_falhas.head(20)"
   ]
  },
  {
   "cell_type": "code",
   "execution_count": null,
   "metadata": {},
   "outputs": [],
   "source": [
    "df_resultados.head(20)\n",
    "print(\"m700:\", 'M700' in df_resultados['STATUS'].values)"
   ]
  },
  {
   "cell_type": "markdown",
   "metadata": {},
   "source": [
    "Analisando os tipos de dados de falhas"
   ]
  },
  {
   "cell_type": "code",
   "execution_count": null,
   "metadata": {},
   "outputs": [],
   "source": [
    "df_falhas.describe()"
   ]
  },
  {
   "cell_type": "code",
   "execution_count": null,
   "metadata": {},
   "outputs": [],
   "source": [
    "df_resultados.head(20)"
   ]
  },
  {
   "cell_type": "markdown",
   "metadata": {},
   "source": [
    "Após está analise, creio que os dados de ambas as tabelas que não serão utilizados tanto no treinamento quanto teste do modelo são:\n",
    "\n",
    "#### Falhas:\n",
    "\n",
    "- KNR\n",
    "- Estação\n",
    "- Data\n",
    "\n",
    "#### Resultados:\n",
    "\n",
    "- KNR\n",
    "- Name\n",
    "- Data\n",
    "\n",
    "OBS(Futuramente a coluna Data pode ser utilizada para criar novas features)\n",
    "OBS2(Colunas KNR e Name serão removidas apenas antes do treinamento do modelo)"
   ]
  },
  {
   "cell_type": "markdown",
   "metadata": {},
   "source": []
  },
  {
   "cell_type": "markdown",
   "metadata": {},
   "source": [
    "## Preparação dos dados"
   ]
  },
  {
   "cell_type": "markdown",
   "metadata": {},
   "source": [
    "Inicialmente, os dados serão integrados em uma única tabela"
   ]
  },
  {
   "cell_type": "code",
   "execution_count": null,
   "metadata": {},
   "outputs": [],
   "source": [
    "# Remoção das colunas com NaN\n",
    "\n",
    "df_falhas = df_falhas.dropna()\n",
    "df_resultados = df_resultados.dropna()"
   ]
  },
  {
   "cell_type": "code",
   "execution_count": null,
   "metadata": {},
   "outputs": [],
   "source": [
    "# Randomly sample 50% of the DataFrame\n",
    "df_resultados_reduced = df_resultados.sample(frac=0.5, random_state=42)\n"
   ]
  },
  {
   "cell_type": "code",
   "execution_count": null,
   "metadata": {},
   "outputs": [],
   "source": [
    "# Modificando o nome da tabela DATA em cada dataframe\n",
    "\n",
    "df_falhas = df_falhas.rename(columns={'DATA': 'DATA_FALHAS'})\n",
    "df_resultados_reduced = df_resultados_reduced.rename(columns={'DATA': 'DATA_RESULTADOS'})\n",
    "\n",
    "# Juntando os dois dataframes\n",
    "\n",
    "merged_df = pd.merge(df_resultados_reduced, df_falhas, on='KNR', how='inner')"
   ]
  },
  {
   "cell_type": "code",
   "execution_count": null,
   "metadata": {},
   "outputs": [],
   "source": [
    "df_resultados.shape"
   ]
  },
  {
   "cell_type": "code",
   "execution_count": null,
   "metadata": {},
   "outputs": [],
   "source": [
    "df_falhas.shape"
   ]
  },
  {
   "cell_type": "code",
   "execution_count": null,
   "metadata": {},
   "outputs": [],
   "source": [
    "merged_df.head(10)"
   ]
  },
  {
   "cell_type": "code",
   "execution_count": null,
   "metadata": {},
   "outputs": [],
   "source": [
    "merged_df.to_csv('data/merged_df.csv', compression='gzip')"
   ]
  },
  {
   "cell_type": "code",
   "execution_count": null,
   "metadata": {},
   "outputs": [],
   "source": [
    "falhas_aggregated = df_falhas.groupby('KNR').agg({\n",
    "    'MODELO': 'first',\n",
    "    'MOTOR': 'first',\n",
    "    'COR': 'first',\n",
    "    'HALLE': lambda x: '; '.join(x.astype(str)),  # Concatenando os HALLES\n",
    "    'FALHA': lambda x: '; '.join(x.astype(str)),   # Concatenando as FALHAS\n",
    "    'DATA_FALHAS': 'first'\n",
    "}).reset_index()\n",
    "\n",
    "# Agrupando e concatenando os dados da tabela de resultados\n",
    "resultados_aggregated = df_resultados.groupby('KNR').agg({\n",
    "    'NAME': lambda x: '; '.join(x.astype(str)),     # Concatenando as NAMES\n",
    "    'ID': lambda x: '; '.join(x.astype(str)),       # Concatenando os IDs\n",
    "    'STATUS': lambda x: '; '.join(x.astype(str)),   # Concatenando os STATUS\n",
    "    'UNIT': lambda x: '; '.join(x.dropna().astype(str)), # Concatenando as UNIT\n",
    "    'VALUE_ID': lambda x: '; '.join(x.dropna().astype(str)), # Concatenando os VALUE_IDs\n",
    "    'VALUE': lambda x: '; '.join(x.dropna().astype(str)),     # Concatenando os VALUES\n",
    "    'DATA': 'first'\n",
    "}).reset_index()\n"
   ]
  },
  {
   "cell_type": "code",
   "execution_count": null,
   "metadata": {},
   "outputs": [],
   "source": [
    "resultados_aggregated.head(30)"
   ]
  },
  {
   "cell_type": "code",
   "execution_count": null,
   "metadata": {},
   "outputs": [],
   "source": [
    "\n",
    "resultados_aggregated = resultados_aggregated.rename(columns={'DATA': 'DATA_RESULTADOS'})\n",
    "\n",
    "# Juntando os dois dataframes\n",
    "\n",
    "merged_df = pd.merge(resultados_aggregated, falhas_aggregated, on='KNR', how='inner')"
   ]
  },
  {
   "cell_type": "code",
   "execution_count": null,
   "metadata": {},
   "outputs": [],
   "source": [
    "merged_df.head(10)"
   ]
  }
 ],
 "metadata": {
  "kernelspec": {
   "display_name": "venv",
   "language": "python",
   "name": "python3"
  },
  "language_info": {
   "codemirror_mode": {
    "name": "ipython",
    "version": 3
   },
   "file_extension": ".py",
   "mimetype": "text/x-python",
   "name": "python",
   "nbconvert_exporter": "python",
   "pygments_lexer": "ipython3",
   "version": "3.11.9"
  }
 },
 "nbformat": 4,
 "nbformat_minor": 2
}
